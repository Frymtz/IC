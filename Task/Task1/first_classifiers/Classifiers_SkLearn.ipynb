{
 "cells": [
  {
   "cell_type": "markdown",
   "metadata": {},
   "source": [
    "### FILES PROCESSING "
   ]
  },
  {
   "cell_type": "code",
   "execution_count": 57,
   "metadata": {},
   "outputs": [],
   "source": [
    "import os\n",
    "from pathlib import Path\n",
    "\n",
    "def get_files_name(path_train, path_test):\n",
    "    \"\"\"\n",
    "    Get the files name of test and train folder in the current working directory.\n",
    "    \"\"\"\n",
    "    workdirectory = os.getcwd()\n",
    "\n",
    "    train_folder = Path(workdirectory) / path_train\n",
    "    train_files = os.listdir(train_folder)\n",
    "\n",
    "    test_folder = Path(workdirectory) / path_test\n",
    "    test_files = os.listdir(test_folder)\n",
    "\n",
    "    paths_train = [os.path.join(train_folder, nome) for nome in train_files if os.path.isfile(os.path.join(train_folder, nome))]\n",
    "    paths_test = [os.path.join(test_folder, nome) for nome in test_files if os.path.isfile(os.path.join(test_folder, nome))]\n",
    "    \n",
    "    return paths_train, paths_test, train_files, test_files\n",
    "\n",
    "#path_train, path_test = get_files_name('first_classifiers/train_sets', 'first_classifiers/test_sets')"
   ]
  },
  {
   "cell_type": "markdown",
   "metadata": {},
   "source": [
    "### DATA PROCESSING"
   ]
  },
  {
   "cell_type": "code",
   "execution_count": 60,
   "metadata": {},
   "outputs": [],
   "source": [
    "import pandas as pd\n",
    "\n",
    "def get_data(train_path, test_path): \n",
    "    \n",
    "\n",
    "    data_train = pd.read_csv(train_path)\n",
    "    data_test = pd.read_csv(test_path)\n",
    "\n",
    "    out_train = data_train[\"label\"].values \n",
    "\n",
    "    if '1d' in train_path:\n",
    "        # TRAINING SET\n",
    "        in_train = data_train[[\"feature\"]].values \n",
    "\n",
    "        # TESTING SET\n",
    "        in_new = data_test[[\"feature\"]].values \n",
    "        \n",
    "    else:\n",
    "        if '2d' in train_path:\n",
    "            # TRAINING SET\n",
    "            feature_columns = [\"x1\", \"x2\"]       \n",
    "        elif '3d' in train_path:\n",
    "            # TRAINING SET\n",
    "            feature_columns = [\"x1\", \"x2\", \"x3\"]\n",
    "        else: \n",
    "            feature_columns = [\"x1\", \"x2\", \"x3\", \"x4\"]\n",
    "\n",
    "        in_train = data_train[feature_columns].values \n",
    "        in_new = data_test[feature_columns].values \n",
    "\n",
    "    return in_train, out_train, in_new, data_test"
   ]
  },
  {
   "cell_type": "markdown",
   "metadata": {},
   "source": [
    "\n",
    "### CALCULATE METRICS"
   ]
  },
  {
   "cell_type": "code",
   "execution_count": 55,
   "metadata": {},
   "outputs": [],
   "source": [
    "from sklearn.metrics import accuracy_score\n",
    "\n",
    "def accuracy_metric(data_test, out_pred, outfile,train_f, test_f, k, accuracy_validation):\n",
    "\n",
    "    out_true = data_test[[\"label\"]].values\n",
    "\n",
    "    # Calculate the accuracy of the model\n",
    "    accuracy_test = accuracy_score(out_true, out_pred)\n",
    "\n",
    "    if not outfile.tell() == 0:\n",
    "        outfile.write(\"\\n\\n\")\n",
    "        \n",
    "    outfile.write(\"╔════════════════════════════════════════════╗\\n\")\n",
    "    outfile.write(\"║          Classification Results            ║\\n\")\n",
    "    outfile.write(\"╚════════════════════════════════════════════╝\\n\")\n",
    "    outfile.write(f\" Train File: {train_f:<35} \\n\") \n",
    "    outfile.write(f\" Test File:  {test_f:<35} \\n\") \n",
    "    outfile.write(\"══════════════════════════════════════════════\\n\")\n",
    "    outfile.write(f\" {'Accuracy':<30} {accuracy_test:>12.3f} \\n\")\n",
    "    outfile.write(f\" {'Error':<30} {(1-accuracy_test):>12.3f} \\n\")\n",
    "    outfile.write(f\" {'Best K':<30} {k:>12.3f} \\n\")\n",
    "    outfile.write(f\" {'Best Validation Accuracy':<30} {accuracy_validation:>12.3f} \\n\")\n",
    "    outfile.write(\"══════════════════════════════════════════════\")\n"
   ]
  },
  {
   "cell_type": "markdown",
   "metadata": {},
   "source": [
    "### CLASSIFIERS "
   ]
  },
  {
   "cell_type": "code",
   "execution_count": 59,
   "metadata": {},
   "outputs": [
    {
     "name": "stdout",
     "output_type": "stream",
     "text": [
      "GridSearchCV(cv=5, estimator=KNeighborsClassifier(),\n",
      "             param_grid={'n_neighbors': array([ 1,  2,  3,  4,  5,  6,  7,  8,  9, 10, 11, 12, 13, 14, 15, 16, 17,\n",
      "       18, 19, 20, 21, 22, 23, 24, 25, 26, 27, 28, 29, 30])},\n",
      "             scoring='accuracy', verbose=3)\n",
      "Fitting 5 folds for each of 30 candidates, totalling 150 fits\n",
      "GridSearchCV(cv=5, estimator=KNeighborsClassifier(),\n",
      "             param_grid={'n_neighbors': array([ 1,  2,  3,  4,  5,  6,  7,  8,  9, 10, 11, 12, 13, 14, 15, 16, 17,\n",
      "       18, 19, 20, 21, 22, 23, 24, 25, 26, 27, 28, 29, 30])},\n",
      "             scoring='accuracy', verbose=1)\n",
      "Fitting 5 folds for each of 30 candidates, totalling 150 fits\n",
      "GridSearchCV(cv=5, estimator=KNeighborsClassifier(),\n",
      "             param_grid={'n_neighbors': array([ 1,  2,  3,  4,  5,  6,  7,  8,  9, 10, 11, 12, 13, 14, 15, 16, 17,\n",
      "       18, 19, 20, 21, 22, 23, 24, 25, 26, 27, 28, 29, 30])},\n",
      "             scoring='accuracy', verbose=1)\n",
      "Fitting 5 folds for each of 30 candidates, totalling 150 fits\n",
      "GridSearchCV(cv=5, estimator=KNeighborsClassifier(),\n",
      "             param_grid={'n_neighbors': array([ 1,  2,  3,  4,  5,  6,  7,  8,  9, 10, 11, 12, 13, 14, 15, 16, 17,\n",
      "       18, 19, 20, 21, 22, 23, 24, 25, 26, 27, 28, 29, 30])},\n",
      "             scoring='accuracy', verbose=1)\n",
      "Fitting 5 folds for each of 30 candidates, totalling 150 fits\n",
      "GridSearchCV(cv=5, estimator=KNeighborsClassifier(),\n",
      "             param_grid={'n_neighbors': array([ 1,  2,  3,  4,  5,  6,  7,  8,  9, 10, 11, 12, 13, 14, 15, 16, 17,\n",
      "       18, 19, 20, 21, 22, 23, 24, 25, 26, 27, 28, 29, 30])},\n",
      "             scoring='accuracy', verbose=1)\n",
      "Fitting 5 folds for each of 30 candidates, totalling 150 fits\n",
      "GridSearchCV(cv=5, estimator=KNeighborsClassifier(),\n",
      "             param_grid={'n_neighbors': array([ 1,  2,  3,  4,  5,  6,  7,  8,  9, 10, 11, 12, 13, 14, 15, 16, 17,\n",
      "       18, 19, 20, 21, 22, 23, 24, 25, 26, 27, 28, 29, 30])},\n",
      "             scoring='accuracy', verbose=1)\n",
      "Fitting 5 folds for each of 30 candidates, totalling 150 fits\n",
      "Results save in: knn_classification_results.txt\n"
     ]
    }
   ],
   "source": [
    "# CLASSIFIER_1 KNN\n",
    "import numpy as np\n",
    "from sklearn.neighbors import KNeighborsClassifier\n",
    "from sklearn.model_selection import GridSearchCV\n",
    "\n",
    "path_train, path_test, train_file, test_file = get_files_name('train_sets', 'test_sets')\n",
    "\n",
    "\n",
    "output_filename = \"knn_classification_results.txt\"\n",
    "\n",
    "with open(output_filename, 'w', encoding='utf-8') as outfile:   \n",
    "    for train, test, train_f, test_f in zip(path_train, path_test,train_file, test_file):\n",
    "\n",
    "        in_train, out_train, in_test, data_test = get_data(train, test)\n",
    "\n",
    "        # Create a KNN regressor model with 9 neighbors\n",
    "        model = KNeighborsClassifier()\n",
    "\n",
    "        param_grid = {'n_neighbors': np.arange(1, 31)} # k: [1-30]\n",
    "        print(grid_search)\n",
    "\n",
    "        grid_search = GridSearchCV(estimator=model, param_grid=param_grid, cv=5, scoring='accuracy', verbose=1) \n",
    "        #cv:fold number; scoring:metric to evaluate model performance; estimator:model to tune.\n",
    "        \n",
    "        grid_search.fit(in_train, out_train)\n",
    "\n",
    "        best_knn_model = grid_search.best_estimator_\n",
    "\n",
    "        out_pred = best_knn_model.predict(in_test)\n",
    "\n",
    "        accuracy_metric(data_test, out_pred, outfile, train_f, test_f, grid_search.best_params_['n_neighbors'], grid_search.best_score_ )\n",
    "    \n",
    "print(f\"Results save in: {output_filename}\")\n"
   ]
  }
 ],
 "metadata": {
  "kernelspec": {
   "display_name": ".venv",
   "language": "python",
   "name": "python3"
  },
  "language_info": {
   "codemirror_mode": {
    "name": "ipython",
    "version": 3
   },
   "file_extension": ".py",
   "mimetype": "text/x-python",
   "name": "python",
   "nbconvert_exporter": "python",
   "pygments_lexer": "ipython3",
   "version": "3.12.2"
  }
 },
 "nbformat": 4,
 "nbformat_minor": 2
}
