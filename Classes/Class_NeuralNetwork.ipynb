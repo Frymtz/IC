{
 "cells": [
  {
   "cell_type": "markdown",
   "id": "dd77ed6f",
   "metadata": {},
   "source": [
    "RNN\n",
    "\n",
    "    TensorFlow (Study)\n",
    "        Keras (API)\n",
    "    \n",
    "    Perceptron \n",
    "\n",
    "    Delta rule or Windrow e Hoff Learning rule or the Least Mean Square \n",
    "    BackPropagation: Generalização do LMS para múltiplas camadas\n",
    "    Funçao de ativação: Incluem a não linearidade \n",
    "        Signal before function activation: Net input   \n",
    "        Relu \n",
    "        Sigmoide \n",
    "        Tangente Hiperbólica\n",
    "        SoftMax"
   ]
  }
 ],
 "metadata": {
  "language_info": {
   "name": "python"
  }
 },
 "nbformat": 4,
 "nbformat_minor": 5
}
