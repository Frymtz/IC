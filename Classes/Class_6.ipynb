{
 "cells": [
  {
   "cell_type": "markdown",
   "id": "4313d3f8",
   "metadata": {},
   "source": [
    "# CLASS 6\n",
    "\n",
    "KEYWORDS \n",
    "\n",
    "Clastering \n",
    "\n",
    "Centroids,apply KNN\n",
    "\n",
    "Voronoi\n",
    "\n",
    "Finding the optimal number of cluster \n",
    " Increase k and verify the inertie, silhouette\n",
    "\n",
    "\n",
    "Naive Bayes and Bayesian Learning \n",
    "\n",
    "Classification \n",
    "Probabilidade Conjunta\n",
    "P(B|A) = P(A,B)/P(A) \n",
    "Probabilidade Condicional\n",
    "\n",
    "Regra de Bayes\n",
    "Verosimilhança\n",
    "\n",
    "\n",
    "PROJECT: CLASSIFIER \n",
    "\n",
    "FIGURE-MERIT: RECALL, PRECISION\n",
    "DATA:BINARY, DESBALANCEADA, CNN(NOP)\n",
    "Feature Exctration: Search in github\n",
    "Resampling\n",
    "\n",
    "Verify if the dataset is already pre-processed\n",
    "XGBOOST\n",
    "OPtuna"
   ]
  }
 ],
 "metadata": {
  "language_info": {
   "name": "python"
  }
 },
 "nbformat": 4,
 "nbformat_minor": 5
}
