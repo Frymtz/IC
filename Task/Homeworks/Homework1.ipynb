{
 "cells": [
  {
   "cell_type": "markdown",
   "id": "fda8a1e1",
   "metadata": {},
   "source": [
    "## Questions Resolutions "
   ]
  },
  {
   "cell_type": "markdown",
   "id": "25235b4d",
   "metadata": {},
   "source": [
    "#### Question 1 \n",
    "\n",
    "* a)  The Linear SVC has 2 errors, SVC with linear kernel has 1 error, the SVC with RBF kernel has 1 error, and finally, SVC with polynomial kernel has 0 errors.\n",
    "\n",
    "**Corrections:**\n",
    "- \"erros\" → \"errors\"\n",
    "- \"kernal\" → \"kernel\"\n",
    "- Added commas for clarity.\n",
    "- Minor grammar fixes for parallel structure.\n",
    "\n",
    "* b) In relation with the number of error in train set the best SVM is the SVC with polynomial kernal. Howover, taking acount the model generalization in a possible test train the best SVM is the SVC with linear kernel because the \"margin\" concept became the model more robust on dataset with non-linear separable classes.\n",
    "\n",
    "#### Question 2\n",
    "\n",
    "It's necessary increase the number of support vectors, because t"
   ]
  }
 ],
 "metadata": {
  "language_info": {
   "name": "python"
  }
 },
 "nbformat": 4,
 "nbformat_minor": 5
}
