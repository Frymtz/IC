{
 "cells": [
  {
   "cell_type": "markdown",
   "id": "b60978c1",
   "metadata": {},
   "source": [
    "#### Boostinng\n",
    "\n",
    "Is a meta learning scheme that works by combining weak learners.\n",
    "\n",
    "Training consists of multiple boosting rounds \n",
    "\n",
    "AdaBoost algorithm (there are other applications without limitations in binary labels)\n",
    "\n",
    "Difference betwwen hard decision and soft decision\n",
    "\n",
    "\n",
    "#### Bagging  => Random florest\n",
    "\n",
    "xgboost"
   ]
  }
 ],
 "metadata": {
  "language_info": {
   "name": "python"
  }
 },
 "nbformat": 4,
 "nbformat_minor": 5
}
