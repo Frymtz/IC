{
 "cells": [
  {
   "cell_type": "markdown",
   "id": "76af4566",
   "metadata": {},
   "source": [
    "# DATA REDUCE DIMENTIONALITY\n",
    "\n",
    "**KEYWORDS**\n",
    "\n",
    "PROJECTION \n",
    "    Research algorithms (eg. Min. square)\n",
    "    Find the hyperplane using matrix \n",
    "    Manifold: \n",
    "PCA: Pricipal component analysis. Usually used in unsupervised algorithm.   \n",
    "    Reduce the error projection, that is, find the direction with higher variance, since it's possible to classify better.\n",
    "\n",
    "    Feature Selection\n",
    "    Feature Extraction (PCA)\n",
    "    PCA for compression \n",
    "        -MDS\n",
    "        -SOMAP\n",
    "        -t-SNE\n",
    "        "
   ]
  }
 ],
 "metadata": {
  "language_info": {
   "name": "python"
  }
 },
 "nbformat": 4,
 "nbformat_minor": 5
}
