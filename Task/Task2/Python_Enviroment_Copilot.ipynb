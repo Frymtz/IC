{
 "cells": [
  {
   "cell_type": "code",
   "execution_count": 16,
   "id": "4a51ba2a",
   "metadata": {},
   "outputs": [
    {
     "name": "stdout",
     "output_type": "stream",
     "text": [
      "pandas==2.2.3\n",
      "numpy==1.26.4\n",
      "scikit-learn==1.6.1\n",
      "matplotlib==3.8.3\n",
      "matplotlib-inline==0.1.7\n"
     ]
    }
   ],
   "source": [
    "!pip freeze | findstr \"pandas\"\n",
    "!pip freeze | findstr \"numpy\"\n",
    "!pip freeze | findstr \"scikit-learn\"\n",
    "!pip freeze | findstr \"matplotlib\" "
   ]
  },
  {
   "cell_type": "code",
   "execution_count": null,
   "id": "5b9d993a",
   "metadata": {},
   "outputs": [],
   "source": [
    "from sklearn.datasets import make_classification\n",
    "from sklearn.model_selection import train_test_split\n",
    "from sklearn.svm import SVC\n",
    "from sklearn.metrics import accuracy_score\n",
    "\n",
    "# Generate synthetic dataset\n",
    "X, y = make_classification(n_samples=200, n_features=4, n_classes=2, random_state=42)\n",
    "\n",
    "# Split into train and test sets\n",
    "X_train, X_test, y_train, y_test = train_test_split(X, y, test_size=0.3, random_state=42)\n",
    "\n",
    "# Train SVC classifier\n",
    "clf = SVC()\n",
    "clf.fit(X_train, y_train)\n",
    "\n",
    "# Predict and evaluate\n",
    "y_pred = clf.predict(X_test)\n",
    "print(\"Accuracy:\", accuracy_score(y_test, y_pred))"
   ]
  }
 ],
 "metadata": {
  "kernelspec": {
   "display_name": "ic",
   "language": "python",
   "name": "python3"
  },
  "language_info": {
   "codemirror_mode": {
    "name": "ipython",
    "version": 3
   },
   "file_extension": ".py",
   "mimetype": "text/x-python",
   "name": "python",
   "nbconvert_exporter": "python",
   "pygments_lexer": "ipython3",
   "version": "3.12.9"
  }
 },
 "nbformat": 4,
 "nbformat_minor": 5
}
