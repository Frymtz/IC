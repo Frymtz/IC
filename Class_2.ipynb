{
 "cells": [
  {
   "cell_type": "markdown",
   "id": "daf40033",
   "metadata": {},
   "source": [
    "Crossed Validation: Leave-one-out technique\n",
    "    Given a set with N samples, 1 sample is selected and N-1 are used for test. Usually used when the number of folds is equal the number of axamples.\n",
    "\n",
    "    Note: Data augmentation is a technique used to artificially increase the size of a dataset by creating modified versions of existing data. This is particularly useful in machine learning to improve model generalization and reduce overfitting. Examples include rotating, flipping, or scaling images in image datasets, or adding noise to numerical data.Note: Data augmentation. \n",
    "    \n",
    "    Note: Figure-merit: A metric or measure used to evaluate the performance of a model or algorithm. It helps in comparing different models or configurations to determine which performs better. Examples include accuracy, precision, recall, F1-score, and mean squared error, depending on the type of problem being solved (classification, regression, etc.).\n",
    "    \n",
    "    Decision Stamp: A simple decision-making technique often used in machine learning. It involves using a single feature (or column) from the training dataset to make predictions. The notation $y, x_i$ represents the relationship between the target variable $y$ and the feature $x_i$, where $i$ is the index of the column in the training dataset. Methodology: The process involves sorting the values of the selected feature ($x_i$) along with their corresponding labels ($y$). A threshold (or decision boundary) is calculated as the average of the distances between consecutive values. This threshold is then used to classify or predict the target variable. This method is simple but can be effective for certain types of problems, especially when the relationship between the feature and the \n",
    "    target is linear or monotonic.\n",
    "\n",
    "    Hamming Distance: A metric used to measure the difference between two strings of equal length. It calculates the number of positions at which the corresponding symbols differ. This is commonly used in error detection and correction, as well as in comparing binary data or DNA sequences. It's interesting quantize the inputs with limiar in 0.\n",
    "    \n",
    "\n",
    "\n"
   ]
  }
 ],
 "metadata": {
  "language_info": {
   "name": "python"
  }
 },
 "nbformat": 4,
 "nbformat_minor": 5
}
